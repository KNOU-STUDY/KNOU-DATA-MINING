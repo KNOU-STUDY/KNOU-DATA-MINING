{
 "cells": [
  {
   "cell_type": "code",
   "execution_count": 2,
   "id": "dd148ae9",
   "metadata": {},
   "outputs": [],
   "source": [
    "prod <- read.csv('./data/productivityORG.csv')"
   ]
  },
  {
   "cell_type": "code",
   "execution_count": 4,
   "id": "af8db069",
   "metadata": {},
   "outputs": [
    {
     "data": {
      "text/html": [
       "<table class=\"dataframe\">\n",
       "<caption>A data.frame: 6 × 15</caption>\n",
       "<thead>\n",
       "\t<tr><th></th><th scope=col>date</th><th scope=col>quarter</th><th scope=col>department</th><th scope=col>day</th><th scope=col>team</th><th scope=col>target</th><th scope=col>smv</th><th scope=col>wip</th><th scope=col>over_time</th><th scope=col>incentive</th><th scope=col>idle_time</th><th scope=col>idle_men</th><th scope=col>numchange</th><th scope=col>numworkers</th><th scope=col>productivity</th></tr>\n",
       "\t<tr><th></th><th scope=col>&lt;chr&gt;</th><th scope=col>&lt;chr&gt;</th><th scope=col>&lt;chr&gt;</th><th scope=col>&lt;chr&gt;</th><th scope=col>&lt;int&gt;</th><th scope=col>&lt;dbl&gt;</th><th scope=col>&lt;dbl&gt;</th><th scope=col>&lt;int&gt;</th><th scope=col>&lt;int&gt;</th><th scope=col>&lt;int&gt;</th><th scope=col>&lt;dbl&gt;</th><th scope=col>&lt;int&gt;</th><th scope=col>&lt;int&gt;</th><th scope=col>&lt;dbl&gt;</th><th scope=col>&lt;dbl&gt;</th></tr>\n",
       "</thead>\n",
       "<tbody>\n",
       "\t<tr><th scope=row>1</th><td>1/1/2015</td><td>Quarter1</td><td>sweing   </td><td>Thursday</td><td> 8</td><td>0.80</td><td>26.16</td><td>1108</td><td>7080</td><td>98</td><td>0</td><td>0</td><td>0</td><td>59.0</td><td>0.9407254</td></tr>\n",
       "\t<tr><th scope=row>2</th><td>1/1/2015</td><td>Quarter1</td><td>finishing</td><td>Thursday</td><td> 1</td><td>0.75</td><td> 3.94</td><td>   0</td><td> 960</td><td> 0</td><td>0</td><td>0</td><td>0</td><td> 8.0</td><td>0.8865000</td></tr>\n",
       "\t<tr><th scope=row>3</th><td>1/1/2015</td><td>Quarter1</td><td>sweing   </td><td>Thursday</td><td>11</td><td>0.80</td><td>11.41</td><td> 968</td><td>3660</td><td>50</td><td>0</td><td>0</td><td>0</td><td>30.5</td><td>0.8005705</td></tr>\n",
       "\t<tr><th scope=row>4</th><td>1/1/2015</td><td>Quarter1</td><td>sweing   </td><td>Thursday</td><td>12</td><td>0.80</td><td>11.41</td><td> 968</td><td>3660</td><td>50</td><td>0</td><td>0</td><td>0</td><td>30.5</td><td>0.8005705</td></tr>\n",
       "\t<tr><th scope=row>5</th><td>1/1/2015</td><td>Quarter1</td><td>sweing   </td><td>Thursday</td><td> 6</td><td>0.80</td><td>25.90</td><td>1170</td><td>1920</td><td>50</td><td>0</td><td>0</td><td>0</td><td>56.0</td><td>0.8003819</td></tr>\n",
       "\t<tr><th scope=row>6</th><td>1/1/2015</td><td>Quarter1</td><td>sweing   </td><td>Thursday</td><td> 7</td><td>0.80</td><td>25.90</td><td> 984</td><td>6720</td><td>38</td><td>0</td><td>0</td><td>0</td><td>56.0</td><td>0.8001250</td></tr>\n",
       "</tbody>\n",
       "</table>\n"
      ],
      "text/latex": [
       "A data.frame: 6 × 15\n",
       "\\begin{tabular}{r|lllllllllllllll}\n",
       "  & date & quarter & department & day & team & target & smv & wip & over\\_time & incentive & idle\\_time & idle\\_men & numchange & numworkers & productivity\\\\\n",
       "  & <chr> & <chr> & <chr> & <chr> & <int> & <dbl> & <dbl> & <int> & <int> & <int> & <dbl> & <int> & <int> & <dbl> & <dbl>\\\\\n",
       "\\hline\n",
       "\t1 & 1/1/2015 & Quarter1 & sweing    & Thursday &  8 & 0.80 & 26.16 & 1108 & 7080 & 98 & 0 & 0 & 0 & 59.0 & 0.9407254\\\\\n",
       "\t2 & 1/1/2015 & Quarter1 & finishing & Thursday &  1 & 0.75 &  3.94 &    0 &  960 &  0 & 0 & 0 & 0 &  8.0 & 0.8865000\\\\\n",
       "\t3 & 1/1/2015 & Quarter1 & sweing    & Thursday & 11 & 0.80 & 11.41 &  968 & 3660 & 50 & 0 & 0 & 0 & 30.5 & 0.8005705\\\\\n",
       "\t4 & 1/1/2015 & Quarter1 & sweing    & Thursday & 12 & 0.80 & 11.41 &  968 & 3660 & 50 & 0 & 0 & 0 & 30.5 & 0.8005705\\\\\n",
       "\t5 & 1/1/2015 & Quarter1 & sweing    & Thursday &  6 & 0.80 & 25.90 & 1170 & 1920 & 50 & 0 & 0 & 0 & 56.0 & 0.8003819\\\\\n",
       "\t6 & 1/1/2015 & Quarter1 & sweing    & Thursday &  7 & 0.80 & 25.90 &  984 & 6720 & 38 & 0 & 0 & 0 & 56.0 & 0.8001250\\\\\n",
       "\\end{tabular}\n"
      ],
      "text/markdown": [
       "\n",
       "A data.frame: 6 × 15\n",
       "\n",
       "| <!--/--> | date &lt;chr&gt; | quarter &lt;chr&gt; | department &lt;chr&gt; | day &lt;chr&gt; | team &lt;int&gt; | target &lt;dbl&gt; | smv &lt;dbl&gt; | wip &lt;int&gt; | over_time &lt;int&gt; | incentive &lt;int&gt; | idle_time &lt;dbl&gt; | idle_men &lt;int&gt; | numchange &lt;int&gt; | numworkers &lt;dbl&gt; | productivity &lt;dbl&gt; |\n",
       "|---|---|---|---|---|---|---|---|---|---|---|---|---|---|---|---|\n",
       "| 1 | 1/1/2015 | Quarter1 | sweing    | Thursday |  8 | 0.80 | 26.16 | 1108 | 7080 | 98 | 0 | 0 | 0 | 59.0 | 0.9407254 |\n",
       "| 2 | 1/1/2015 | Quarter1 | finishing | Thursday |  1 | 0.75 |  3.94 |    0 |  960 |  0 | 0 | 0 | 0 |  8.0 | 0.8865000 |\n",
       "| 3 | 1/1/2015 | Quarter1 | sweing    | Thursday | 11 | 0.80 | 11.41 |  968 | 3660 | 50 | 0 | 0 | 0 | 30.5 | 0.8005705 |\n",
       "| 4 | 1/1/2015 | Quarter1 | sweing    | Thursday | 12 | 0.80 | 11.41 |  968 | 3660 | 50 | 0 | 0 | 0 | 30.5 | 0.8005705 |\n",
       "| 5 | 1/1/2015 | Quarter1 | sweing    | Thursday |  6 | 0.80 | 25.90 | 1170 | 1920 | 50 | 0 | 0 | 0 | 56.0 | 0.8003819 |\n",
       "| 6 | 1/1/2015 | Quarter1 | sweing    | Thursday |  7 | 0.80 | 25.90 |  984 | 6720 | 38 | 0 | 0 | 0 | 56.0 | 0.8001250 |\n",
       "\n"
      ],
      "text/plain": [
       "  date     quarter  department day      team target smv   wip  over_time\n",
       "1 1/1/2015 Quarter1 sweing     Thursday  8   0.80   26.16 1108 7080     \n",
       "2 1/1/2015 Quarter1 finishing  Thursday  1   0.75    3.94    0  960     \n",
       "3 1/1/2015 Quarter1 sweing     Thursday 11   0.80   11.41  968 3660     \n",
       "4 1/1/2015 Quarter1 sweing     Thursday 12   0.80   11.41  968 3660     \n",
       "5 1/1/2015 Quarter1 sweing     Thursday  6   0.80   25.90 1170 1920     \n",
       "6 1/1/2015 Quarter1 sweing     Thursday  7   0.80   25.90  984 6720     \n",
       "  incentive idle_time idle_men numchange numworkers productivity\n",
       "1 98        0         0        0         59.0       0.9407254   \n",
       "2  0        0         0        0          8.0       0.8865000   \n",
       "3 50        0         0        0         30.5       0.8005705   \n",
       "4 50        0         0        0         30.5       0.8005705   \n",
       "5 50        0         0        0         56.0       0.8003819   \n",
       "6 38        0         0        0         56.0       0.8001250   "
      ]
     },
     "metadata": {},
     "output_type": "display_data"
    }
   ],
   "source": [
    "head(prod)"
   ]
  },
  {
   "cell_type": "code",
   "execution_count": 6,
   "id": "c9f3d68a",
   "metadata": {},
   "outputs": [
    {
     "data": {
      "text/html": [
       "<style>\n",
       ".list-inline {list-style: none; margin:0; padding: 0}\n",
       ".list-inline>li {display: inline-block}\n",
       ".list-inline>li:not(:last-child)::after {content: \"\\00b7\"; padding: 0 .5ex}\n",
       "</style>\n",
       "<ol class=list-inline><li>'1/1/2015'</li><li>'1/1/2015'</li><li>'1/1/2015'</li><li>'1/1/2015'</li><li>'1/1/2015'</li><li>'1/1/2015'</li></ol>\n"
      ],
      "text/latex": [
       "\\begin{enumerate*}\n",
       "\\item '1/1/2015'\n",
       "\\item '1/1/2015'\n",
       "\\item '1/1/2015'\n",
       "\\item '1/1/2015'\n",
       "\\item '1/1/2015'\n",
       "\\item '1/1/2015'\n",
       "\\end{enumerate*}\n"
      ],
      "text/markdown": [
       "1. '1/1/2015'\n",
       "2. '1/1/2015'\n",
       "3. '1/1/2015'\n",
       "4. '1/1/2015'\n",
       "5. '1/1/2015'\n",
       "6. '1/1/2015'\n",
       "\n",
       "\n"
      ],
      "text/plain": [
       "[1] \"1/1/2015\" \"1/1/2015\" \"1/1/2015\" \"1/1/2015\" \"1/1/2015\" \"1/1/2015\""
      ]
     },
     "metadata": {},
     "output_type": "display_data"
    }
   ],
   "source": [
    "head(prod$date)"
   ]
  },
  {
   "cell_type": "code",
   "execution_count": 7,
   "id": "63f3be1c",
   "metadata": {},
   "outputs": [],
   "source": [
    "prod$date <- as.Date(prod$date, format='%m/%d/%y')"
   ]
  },
  {
   "cell_type": "code",
   "execution_count": 8,
   "id": "326b9bf4",
   "metadata": {},
   "outputs": [
    {
     "data": {
      "text/html": [
       "<style>\n",
       ".list-inline {list-style: none; margin:0; padding: 0}\n",
       ".list-inline>li {display: inline-block}\n",
       ".list-inline>li:not(:last-child)::after {content: \"\\00b7\"; padding: 0 .5ex}\n",
       "</style>\n",
       "<ol class=list-inline><li><time datetime=\"2020-01-01\">2020-01-01</time></li><li><time datetime=\"2020-01-01\">2020-01-01</time></li><li><time datetime=\"2020-01-01\">2020-01-01</time></li><li><time datetime=\"2020-01-01\">2020-01-01</time></li><li><time datetime=\"2020-01-01\">2020-01-01</time></li><li><time datetime=\"2020-01-01\">2020-01-01</time></li></ol>\n"
      ],
      "text/latex": [
       "\\begin{enumerate*}\n",
       "\\item 2020-01-01\n",
       "\\item 2020-01-01\n",
       "\\item 2020-01-01\n",
       "\\item 2020-01-01\n",
       "\\item 2020-01-01\n",
       "\\item 2020-01-01\n",
       "\\end{enumerate*}\n"
      ],
      "text/markdown": [
       "1. 2020-01-01\n",
       "2. 2020-01-01\n",
       "3. 2020-01-01\n",
       "4. 2020-01-01\n",
       "5. 2020-01-01\n",
       "6. 2020-01-01\n",
       "\n",
       "\n"
      ],
      "text/plain": [
       "[1] \"2020-01-01\" \"2020-01-01\" \"2020-01-01\" \"2020-01-01\" \"2020-01-01\"\n",
       "[6] \"2020-01-01\""
      ]
     },
     "metadata": {},
     "output_type": "display_data"
    }
   ],
   "source": [
    "head(prod$date)"
   ]
  },
  {
   "cell_type": "code",
   "execution_count": 12,
   "id": "e78d9bcb",
   "metadata": {},
   "outputs": [],
   "source": [
    "prod$quarter <- factor(prod$quarter)"
   ]
  },
  {
   "cell_type": "code",
   "execution_count": 13,
   "id": "35be33be",
   "metadata": {},
   "outputs": [],
   "source": [
    "prod$department <- factor(prod$department)"
   ]
  },
  {
   "cell_type": "code",
   "execution_count": 14,
   "id": "4b9397de",
   "metadata": {},
   "outputs": [],
   "source": [
    "prod$day <- factor(prod$day)"
   ]
  },
  {
   "cell_type": "code",
   "execution_count": 15,
   "id": "cbeb17eb",
   "metadata": {},
   "outputs": [],
   "source": [
    "prod$team <- factor(prod$team)"
   ]
  },
  {
   "cell_type": "code",
   "execution_count": 16,
   "id": "3b23af94",
   "metadata": {},
   "outputs": [
    {
     "data": {
      "text/plain": [
       "      date                quarter        department         day     \n",
       " Min.   :2020-01-01   Quarter1:360   finishing:506   Monday   :199  \n",
       " 1st Qu.:2020-01-18   Quarter2:335   sweing   :691   Saturday :187  \n",
       " Median :2020-02-03   Quarter3:210                   Sunday   :203  \n",
       " Mean   :2020-02-04   Quarter4:248                   Thursday :199  \n",
       " 3rd Qu.:2020-02-23   Quarter5: 44                   Tuesday  :201  \n",
       " Max.   :2020-03-11                                  Wednesday:208  \n",
       "                                                                    \n",
       "      team         target            smv             wip         \n",
       " 2      :109   Min.   :0.0700   Min.   : 2.90   Min.   :    0.0  \n",
       " 8      :109   1st Qu.:0.7000   1st Qu.: 3.94   1st Qu.:    0.0  \n",
       " 1      :105   Median :0.7500   Median :15.26   Median :  586.0  \n",
       " 4      :105   Mean   :0.7296   Mean   :15.06   Mean   :  687.2  \n",
       " 9      :104   3rd Qu.:0.8000   3rd Qu.:24.26   3rd Qu.: 1083.0  \n",
       " 10     :100   Max.   :0.8000   Max.   :54.56   Max.   :23122.0  \n",
       " (Other):565                                                     \n",
       "   over_time       incentive         idle_time           idle_men      \n",
       " Min.   :    0   Min.   :   0.00   Min.   :  0.0000   Min.   : 0.0000  \n",
       " 1st Qu.: 1440   1st Qu.:   0.00   1st Qu.:  0.0000   1st Qu.: 0.0000  \n",
       " Median : 3960   Median :   0.00   Median :  0.0000   Median : 0.0000  \n",
       " Mean   : 4567   Mean   :  38.21   Mean   :  0.7302   Mean   : 0.3693  \n",
       " 3rd Qu.: 6960   3rd Qu.:  50.00   3rd Qu.:  0.0000   3rd Qu.: 0.0000  \n",
       " Max.   :25920   Max.   :3600.00   Max.   :300.0000   Max.   :45.0000  \n",
       "                                                                       \n",
       "   numchange        numworkers     productivity   \n",
       " Min.   :0.0000   Min.   : 2.00   Min.   :0.2337  \n",
       " 1st Qu.:0.0000   1st Qu.: 9.00   1st Qu.:0.6503  \n",
       " Median :0.0000   Median :34.00   Median :0.7733  \n",
       " Mean   :0.1504   Mean   :34.61   Mean   :0.7351  \n",
       " 3rd Qu.:0.0000   3rd Qu.:57.00   3rd Qu.:0.8503  \n",
       " Max.   :2.0000   Max.   :89.00   Max.   :1.1204  \n",
       "                                                  "
      ]
     },
     "metadata": {},
     "output_type": "display_data"
    }
   ],
   "source": [
    "summary(prod)"
   ]
  },
  {
   "cell_type": "code",
   "execution_count": 17,
   "id": "b265afee",
   "metadata": {},
   "outputs": [],
   "source": [
    "# 18p - 의류생산성 데이터의 상자그림"
   ]
  },
  {
   "cell_type": "code",
   "execution_count": 18,
   "id": "6628bbf7",
   "metadata": {},
   "outputs": [],
   "source": [
    "attach(prod)"
   ]
  },
  {
   "cell_type": "code",
   "execution_count": 19,
   "id": "e7e7ffcc",
   "metadata": {},
   "outputs": [
    {
     "data": {
      "image/png": "[encoded data removed]",
      "text/plain": [
       "plot without title"
      ]
     },
     "metadata": {
      "image/png": {
       "height": 420,
       "width": 420
      }
     },
     "output_type": "display_data"
    }
   ],
   "source": [
    "par(mfrow=c(3,4))\n",
    "boxplot(target, col='cyan3',xlab='Target Productivity')\n",
    "boxplot(smv, col='cyan3',xlab='Standard Minute Value')\n",
    "boxplot(wip, col='cyan3',xlab='Work in Progress')\n",
    "boxplot(over_time, col='cyan3',xlab='Overtime')\n",
    "boxplot(incentive, col='cyan3',xlab='Incentive')\n",
    "boxplot(idle_time, col='cyan3',xlab='Idle Time')\n",
    "boxplot(idle_men, col='cyan3',xlab='Idle Men')\n",
    "boxplot(numchange, col='cyan3',xlab='Number of Changes in Sytle')\n",
    "boxplot(numworkers, col='cyan3',xlab='Number of Workers')\n",
    "boxplot(productivity, col='cyan3',xlab='Productivity')"
   ]
  },
  {
   "cell_type": "code",
   "execution_count": 20,
   "id": "bf0e7663",
   "metadata": {},
   "outputs": [],
   "source": [
    "# 19p - 의류생산성데이터의 이상치 제거"
   ]
  },
  {
   "cell_type": "code",
   "execution_count": 21,
   "id": "41a5996e",
   "metadata": {},
   "outputs": [
    {
     "data": {
      "text/html": [
       "<style>\n",
       ".list-inline {list-style: none; margin:0; padding: 0}\n",
       ".list-inline>li {display: inline-block}\n",
       ".list-inline>li:not(:last-child)::after {content: \"\\00b7\"; padding: 0 .5ex}\n",
       "</style>\n",
       "<ol class=list-inline><li>0</li><li>0</li><li>0</li><li>0</li><li>0</li><li>0</li><li>0</li><li>0</li><li>0</li><li>0</li><li>0</li><li>0</li><li>0</li><li>0</li><li>0</li></ol>\n"
      ],
      "text/latex": [
       "\\begin{enumerate*}\n",
       "\\item 0\n",
       "\\item 0\n",
       "\\item 0\n",
       "\\item 0\n",
       "\\item 0\n",
       "\\item 0\n",
       "\\item 0\n",
       "\\item 0\n",
       "\\item 0\n",
       "\\item 0\n",
       "\\item 0\n",
       "\\item 0\n",
       "\\item 0\n",
       "\\item 0\n",
       "\\item 0\n",
       "\\end{enumerate*}\n"
      ],
      "text/markdown": [
       "1. 0\n",
       "2. 0\n",
       "3. 0\n",
       "4. 0\n",
       "5. 0\n",
       "6. 0\n",
       "7. 0\n",
       "8. 0\n",
       "9. 0\n",
       "10. 0\n",
       "11. 0\n",
       "12. 0\n",
       "13. 0\n",
       "14. 0\n",
       "15. 0\n",
       "\n",
       "\n"
      ],
      "text/plain": [
       " [1] 0 0 0 0 0 0 0 0 0 0 0 0 0 0 0"
      ]
     },
     "metadata": {},
     "output_type": "display_data"
    },
    {
     "data": {
      "text/html": [
       "<style>\n",
       ".list-inline {list-style: none; margin:0; padding: 0}\n",
       ".list-inline>li {display: inline-block}\n",
       ".list-inline>li:not(:last-child)::after {content: \"\\00b7\"; padding: 0 .5ex}\n",
       "</style>\n",
       "<ol class=list-inline><li>0</li><li>0</li><li>0</li><li>0</li><li>0</li><li>0</li><li>0</li><li>0</li><li>0</li><li>0</li><li>0</li><li>0</li><li>0</li><li>0</li><li>0</li></ol>\n"
      ],
      "text/latex": [
       "\\begin{enumerate*}\n",
       "\\item 0\n",
       "\\item 0\n",
       "\\item 0\n",
       "\\item 0\n",
       "\\item 0\n",
       "\\item 0\n",
       "\\item 0\n",
       "\\item 0\n",
       "\\item 0\n",
       "\\item 0\n",
       "\\item 0\n",
       "\\item 0\n",
       "\\item 0\n",
       "\\item 0\n",
       "\\item 0\n",
       "\\end{enumerate*}\n"
      ],
      "text/markdown": [
       "1. 0\n",
       "2. 0\n",
       "3. 0\n",
       "4. 0\n",
       "5. 0\n",
       "6. 0\n",
       "7. 0\n",
       "8. 0\n",
       "9. 0\n",
       "10. 0\n",
       "11. 0\n",
       "12. 0\n",
       "13. 0\n",
       "14. 0\n",
       "15. 0\n",
       "\n",
       "\n"
      ],
      "text/plain": [
       " [1] 0 0 0 0 0 0 0 0 0 0 0 0 0 0 0"
      ]
     },
     "metadata": {},
     "output_type": "display_data"
    }
   ],
   "source": [
    "dout <- rep(0, 15)\n",
    "dout2 <- rep(0, 15)\n",
    "dout\n",
    "dout2"
   ]
  },
  {
   "cell_type": "code",
   "execution_count": 22,
   "id": "db363f84",
   "metadata": {},
   "outputs": [],
   "source": [
    "for(i in 6:15){\n",
    "    t3 <- quantile(prod[,i], 0.75)\n",
    "    t1 <- quantile(prod[,i], 0.25)\n",
    "    tq <- IQR(prod[,i], 0.75)\n",
    "    dout[i] <- t3 + 1.5 * tq\n",
    "    dout2[i] <- t1 - 1.5 * tq\n",
    "}"
   ]
  },
  {
   "cell_type": "code",
   "execution_count": 29,
   "id": "b61d8178",
   "metadata": {},
   "outputs": [
    {
     "data": {
      "text/html": [
       "15"
      ],
      "text/latex": [
       "15"
      ],
      "text/markdown": [
       "15"
      ],
      "text/plain": [
       "[1] 15"
      ]
     },
     "metadata": {},
     "output_type": "display_data"
    },
    {
     "data": {
      "text/html": [
       "15"
      ],
      "text/latex": [
       "15"
      ],
      "text/markdown": [
       "15"
      ],
      "text/plain": [
       "[1] 15"
      ]
     },
     "metadata": {},
     "output_type": "display_data"
    }
   ],
   "source": [
    "# 열길이(변수 갯수)\n",
    "length(prod)\n",
    "ncol(prod)"
   ]
  },
  {
   "cell_type": "code",
   "execution_count": 30,
   "id": "5574fc42",
   "metadata": {},
   "outputs": [
    {
     "data": {
      "text/html": [
       "1197"
      ],
      "text/latex": [
       "1197"
      ],
      "text/markdown": [
       "1197"
      ],
      "text/plain": [
       "[1] 1197"
      ]
     },
     "metadata": {},
     "output_type": "display_data"
    }
   ],
   "source": [
    "# 행길이\n",
    "nrow(prod)"
   ]
  },
  {
   "cell_type": "code",
   "execution_count": 32,
   "id": "2849d9dc",
   "metadata": {},
   "outputs": [
    {
     "data": {
      "text/html": [
       "<table class=\"dataframe\">\n",
       "<caption>A matrix: 6 × 15 of type dbl</caption>\n",
       "<tbody>\n",
       "\t<tr><td>0</td><td>0</td><td>0</td><td>0</td><td>0</td><td>0</td><td>0</td><td>0</td><td>0</td><td>0</td><td>0</td><td>0</td><td>0</td><td>0</td><td>0</td></tr>\n",
       "\t<tr><td>0</td><td>0</td><td>0</td><td>0</td><td>0</td><td>0</td><td>0</td><td>0</td><td>0</td><td>0</td><td>0</td><td>0</td><td>0</td><td>0</td><td>0</td></tr>\n",
       "\t<tr><td>0</td><td>0</td><td>0</td><td>0</td><td>0</td><td>0</td><td>0</td><td>0</td><td>0</td><td>0</td><td>0</td><td>0</td><td>0</td><td>0</td><td>0</td></tr>\n",
       "\t<tr><td>0</td><td>0</td><td>0</td><td>0</td><td>0</td><td>0</td><td>0</td><td>0</td><td>0</td><td>0</td><td>0</td><td>0</td><td>0</td><td>0</td><td>0</td></tr>\n",
       "\t<tr><td>0</td><td>0</td><td>0</td><td>0</td><td>0</td><td>0</td><td>0</td><td>0</td><td>0</td><td>0</td><td>0</td><td>0</td><td>0</td><td>0</td><td>0</td></tr>\n",
       "\t<tr><td>0</td><td>0</td><td>0</td><td>0</td><td>0</td><td>0</td><td>0</td><td>0</td><td>0</td><td>0</td><td>0</td><td>0</td><td>0</td><td>0</td><td>0</td></tr>\n",
       "</tbody>\n",
       "</table>\n"
      ],
      "text/latex": [
       "A matrix: 6 × 15 of type dbl\n",
       "\\begin{tabular}{lllllllllllllll}\n",
       "\t 0 & 0 & 0 & 0 & 0 & 0 & 0 & 0 & 0 & 0 & 0 & 0 & 0 & 0 & 0\\\\\n",
       "\t 0 & 0 & 0 & 0 & 0 & 0 & 0 & 0 & 0 & 0 & 0 & 0 & 0 & 0 & 0\\\\\n",
       "\t 0 & 0 & 0 & 0 & 0 & 0 & 0 & 0 & 0 & 0 & 0 & 0 & 0 & 0 & 0\\\\\n",
       "\t 0 & 0 & 0 & 0 & 0 & 0 & 0 & 0 & 0 & 0 & 0 & 0 & 0 & 0 & 0\\\\\n",
       "\t 0 & 0 & 0 & 0 & 0 & 0 & 0 & 0 & 0 & 0 & 0 & 0 & 0 & 0 & 0\\\\\n",
       "\t 0 & 0 & 0 & 0 & 0 & 0 & 0 & 0 & 0 & 0 & 0 & 0 & 0 & 0 & 0\\\\\n",
       "\\end{tabular}\n"
      ],
      "text/markdown": [
       "\n",
       "A matrix: 6 × 15 of type dbl\n",
       "\n",
       "| 0 | 0 | 0 | 0 | 0 | 0 | 0 | 0 | 0 | 0 | 0 | 0 | 0 | 0 | 0 |\n",
       "| 0 | 0 | 0 | 0 | 0 | 0 | 0 | 0 | 0 | 0 | 0 | 0 | 0 | 0 | 0 |\n",
       "| 0 | 0 | 0 | 0 | 0 | 0 | 0 | 0 | 0 | 0 | 0 | 0 | 0 | 0 | 0 |\n",
       "| 0 | 0 | 0 | 0 | 0 | 0 | 0 | 0 | 0 | 0 | 0 | 0 | 0 | 0 | 0 |\n",
       "| 0 | 0 | 0 | 0 | 0 | 0 | 0 | 0 | 0 | 0 | 0 | 0 | 0 | 0 | 0 |\n",
       "| 0 | 0 | 0 | 0 | 0 | 0 | 0 | 0 | 0 | 0 | 0 | 0 | 0 | 0 | 0 |\n",
       "\n"
      ],
      "text/plain": [
       "     [,1] [,2] [,3] [,4] [,5] [,6] [,7] [,8] [,9] [,10] [,11] [,12] [,13] [,14]\n",
       "[1,] 0    0    0    0    0    0    0    0    0    0     0     0     0     0    \n",
       "[2,] 0    0    0    0    0    0    0    0    0    0     0     0     0     0    \n",
       "[3,] 0    0    0    0    0    0    0    0    0    0     0     0     0     0    \n",
       "[4,] 0    0    0    0    0    0    0    0    0    0     0     0     0     0    \n",
       "[5,] 0    0    0    0    0    0    0    0    0    0     0     0     0     0    \n",
       "[6,] 0    0    0    0    0    0    0    0    0    0     0     0     0     0    \n",
       "     [,15]\n",
       "[1,] 0    \n",
       "[2,] 0    \n",
       "[3,] 0    \n",
       "[4,] 0    \n",
       "[5,] 0    \n",
       "[6,] 0    "
      ]
     },
     "metadata": {},
     "output_type": "display_data"
    }
   ],
   "source": [
    "outindex <- matrix(0, nrow(prod), 15)\n",
    "head(outindex)"
   ]
  },
  {
   "cell_type": "code",
   "execution_count": 34,
   "id": "495a4e3e",
   "metadata": {},
   "outputs": [
    {
     "data": {
      "text/html": [
       "<style>\n",
       ".list-inline {list-style: none; margin:0; padding: 0}\n",
       ".list-inline>li {display: inline-block}\n",
       ".list-inline>li:not(:last-child)::after {content: \"\\00b7\"; padding: 0 .5ex}\n",
       "</style>\n",
       "<ol class=list-inline><li>0</li><li>0</li><li>0</li><li>0</li><li>0</li><li>0.95</li><li>54.74</li><li>2707.5</li><li>15240</li><li>125</li><li>0</li><li>0</li><li>0</li><li>129</li><li>1.150170598</li></ol>\n"
      ],
      "text/latex": [
       "\\begin{enumerate*}\n",
       "\\item 0\n",
       "\\item 0\n",
       "\\item 0\n",
       "\\item 0\n",
       "\\item 0\n",
       "\\item 0.95\n",
       "\\item 54.74\n",
       "\\item 2707.5\n",
       "\\item 15240\n",
       "\\item 125\n",
       "\\item 0\n",
       "\\item 0\n",
       "\\item 0\n",
       "\\item 129\n",
       "\\item 1.150170598\n",
       "\\end{enumerate*}\n"
      ],
      "text/markdown": [
       "1. 0\n",
       "2. 0\n",
       "3. 0\n",
       "4. 0\n",
       "5. 0\n",
       "6. 0.95\n",
       "7. 54.74\n",
       "8. 2707.5\n",
       "9. 15240\n",
       "10. 125\n",
       "11. 0\n",
       "12. 0\n",
       "13. 0\n",
       "14. 129\n",
       "15. 1.150170598\n",
       "\n",
       "\n"
      ],
      "text/plain": [
       " [1]     0.000000     0.000000     0.000000     0.000000     0.000000\n",
       " [6]     0.950000    54.740000  2707.500000 15240.000000   125.000000\n",
       "[11]     0.000000     0.000000     0.000000   129.000000     1.150171"
      ]
     },
     "metadata": {},
     "output_type": "display_data"
    },
    {
     "data": {
      "text/html": [
       "<style>\n",
       ".list-inline {list-style: none; margin:0; padding: 0}\n",
       ".list-inline>li {display: inline-block}\n",
       ".list-inline>li:not(:last-child)::after {content: \"\\00b7\"; padding: 0 .5ex}\n",
       "</style>\n",
       "<ol class=list-inline><li>0</li><li>0</li><li>0</li><li>0</li><li>0</li><li>0.55</li><li>-26.54</li><li>-1624.5</li><li>-6840</li><li>-75</li><li>0</li><li>0</li><li>0</li><li>-63</li><li>0.35038907</li></ol>\n"
      ],
      "text/latex": [
       "\\begin{enumerate*}\n",
       "\\item 0\n",
       "\\item 0\n",
       "\\item 0\n",
       "\\item 0\n",
       "\\item 0\n",
       "\\item 0.55\n",
       "\\item -26.54\n",
       "\\item -1624.5\n",
       "\\item -6840\n",
       "\\item -75\n",
       "\\item 0\n",
       "\\item 0\n",
       "\\item 0\n",
       "\\item -63\n",
       "\\item 0.35038907\n",
       "\\end{enumerate*}\n"
      ],
      "text/markdown": [
       "1. 0\n",
       "2. 0\n",
       "3. 0\n",
       "4. 0\n",
       "5. 0\n",
       "6. 0.55\n",
       "7. -26.54\n",
       "8. -1624.5\n",
       "9. -6840\n",
       "10. -75\n",
       "11. 0\n",
       "12. 0\n",
       "13. 0\n",
       "14. -63\n",
       "15. 0.35038907\n",
       "\n",
       "\n"
      ],
      "text/plain": [
       " [1]     0.0000000     0.0000000     0.0000000     0.0000000     0.0000000\n",
       " [6]     0.5500000   -26.5400000 -1624.5000000 -6840.0000000   -75.0000000\n",
       "[11]     0.0000000     0.0000000     0.0000000   -63.0000000     0.3503891"
      ]
     },
     "metadata": {},
     "output_type": "display_data"
    }
   ],
   "source": [
    "dout\n",
    "dout2"
   ]
  },
  {
   "cell_type": "code",
   "execution_count": 37,
   "id": "a40c976f",
   "metadata": {},
   "outputs": [],
   "source": [
    "for (i in 1:1197){\n",
    "    for (j in 6:15){\n",
    "        if(prod[i, j] > dout[j] || prod[i, j] < dout2[j]){\n",
    "            outindex[i, j] <- 1\n",
    "        }\n",
    "    }\n",
    "}"
   ]
  },
  {
   "cell_type": "code",
   "execution_count": 48,
   "id": "badc100d",
   "metadata": {},
   "outputs": [],
   "source": [
    "# outindex(행렬)의 한행이 모두 0이된다면 그 행 삭제 - 문자열은 어떻게 처리하나 했더니 생각해보니 팩터로 바꼈음\n",
    "prod2 <- prod[apply(outindex, 1, sum)==0,]"
   ]
  },
  {
   "cell_type": "code",
   "execution_count": 43,
   "id": "2829392b",
   "metadata": {},
   "outputs": [
    {
     "data": {
      "text/html": [
       "<table class=\"dataframe\">\n",
       "<caption>A data.frame: 6 × 15</caption>\n",
       "<thead>\n",
       "\t<tr><th></th><th scope=col>date</th><th scope=col>quarter</th><th scope=col>department</th><th scope=col>day</th><th scope=col>team</th><th scope=col>target</th><th scope=col>smv</th><th scope=col>wip</th><th scope=col>over_time</th><th scope=col>incentive</th><th scope=col>idle_time</th><th scope=col>idle_men</th><th scope=col>numchange</th><th scope=col>numworkers</th><th scope=col>productivity</th></tr>\n",
       "\t<tr><th></th><th scope=col>&lt;date&gt;</th><th scope=col>&lt;fct&gt;</th><th scope=col>&lt;fct&gt;</th><th scope=col>&lt;fct&gt;</th><th scope=col>&lt;fct&gt;</th><th scope=col>&lt;dbl&gt;</th><th scope=col>&lt;dbl&gt;</th><th scope=col>&lt;int&gt;</th><th scope=col>&lt;int&gt;</th><th scope=col>&lt;int&gt;</th><th scope=col>&lt;dbl&gt;</th><th scope=col>&lt;int&gt;</th><th scope=col>&lt;int&gt;</th><th scope=col>&lt;dbl&gt;</th><th scope=col>&lt;dbl&gt;</th></tr>\n",
       "</thead>\n",
       "<tbody>\n",
       "\t<tr><th scope=row>1</th><td>2020-01-01</td><td>Quarter1</td><td>sweing   </td><td>Thursday</td><td>8 </td><td>0.80</td><td>26.16</td><td>1108</td><td>7080</td><td>98</td><td>0</td><td>0</td><td>0</td><td>59.0</td><td>0.9407254</td></tr>\n",
       "\t<tr><th scope=row>2</th><td>2020-01-01</td><td>Quarter1</td><td>finishing</td><td>Thursday</td><td>1 </td><td>0.75</td><td> 3.94</td><td>   0</td><td> 960</td><td> 0</td><td>0</td><td>0</td><td>0</td><td> 8.0</td><td>0.8865000</td></tr>\n",
       "\t<tr><th scope=row>3</th><td>2020-01-01</td><td>Quarter1</td><td>sweing   </td><td>Thursday</td><td>11</td><td>0.80</td><td>11.41</td><td> 968</td><td>3660</td><td>50</td><td>0</td><td>0</td><td>0</td><td>30.5</td><td>0.8005705</td></tr>\n",
       "\t<tr><th scope=row>4</th><td>2020-01-01</td><td>Quarter1</td><td>sweing   </td><td>Thursday</td><td>12</td><td>0.80</td><td>11.41</td><td> 968</td><td>3660</td><td>50</td><td>0</td><td>0</td><td>0</td><td>30.5</td><td>0.8005705</td></tr>\n",
       "\t<tr><th scope=row>5</th><td>2020-01-01</td><td>Quarter1</td><td>sweing   </td><td>Thursday</td><td>6 </td><td>0.80</td><td>25.90</td><td>1170</td><td>1920</td><td>50</td><td>0</td><td>0</td><td>0</td><td>56.0</td><td>0.8003819</td></tr>\n",
       "\t<tr><th scope=row>6</th><td>2020-01-01</td><td>Quarter1</td><td>sweing   </td><td>Thursday</td><td>7 </td><td>0.80</td><td>25.90</td><td> 984</td><td>6720</td><td>38</td><td>0</td><td>0</td><td>0</td><td>56.0</td><td>0.8001250</td></tr>\n",
       "</tbody>\n",
       "</table>\n"
      ],
      "text/latex": [
       "A data.frame: 6 × 15\n",
       "\\begin{tabular}{r|lllllllllllllll}\n",
       "  & date & quarter & department & day & team & target & smv & wip & over\\_time & incentive & idle\\_time & idle\\_men & numchange & numworkers & productivity\\\\\n",
       "  & <date> & <fct> & <fct> & <fct> & <fct> & <dbl> & <dbl> & <int> & <int> & <int> & <dbl> & <int> & <int> & <dbl> & <dbl>\\\\\n",
       "\\hline\n",
       "\t1 & 2020-01-01 & Quarter1 & sweing    & Thursday & 8  & 0.80 & 26.16 & 1108 & 7080 & 98 & 0 & 0 & 0 & 59.0 & 0.9407254\\\\\n",
       "\t2 & 2020-01-01 & Quarter1 & finishing & Thursday & 1  & 0.75 &  3.94 &    0 &  960 &  0 & 0 & 0 & 0 &  8.0 & 0.8865000\\\\\n",
       "\t3 & 2020-01-01 & Quarter1 & sweing    & Thursday & 11 & 0.80 & 11.41 &  968 & 3660 & 50 & 0 & 0 & 0 & 30.5 & 0.8005705\\\\\n",
       "\t4 & 2020-01-01 & Quarter1 & sweing    & Thursday & 12 & 0.80 & 11.41 &  968 & 3660 & 50 & 0 & 0 & 0 & 30.5 & 0.8005705\\\\\n",
       "\t5 & 2020-01-01 & Quarter1 & sweing    & Thursday & 6  & 0.80 & 25.90 & 1170 & 1920 & 50 & 0 & 0 & 0 & 56.0 & 0.8003819\\\\\n",
       "\t6 & 2020-01-01 & Quarter1 & sweing    & Thursday & 7  & 0.80 & 25.90 &  984 & 6720 & 38 & 0 & 0 & 0 & 56.0 & 0.8001250\\\\\n",
       "\\end{tabular}\n"
      ],
      "text/markdown": [
       "\n",
       "A data.frame: 6 × 15\n",
       "\n",
       "| <!--/--> | date &lt;date&gt; | quarter &lt;fct&gt; | department &lt;fct&gt; | day &lt;fct&gt; | team &lt;fct&gt; | target &lt;dbl&gt; | smv &lt;dbl&gt; | wip &lt;int&gt; | over_time &lt;int&gt; | incentive &lt;int&gt; | idle_time &lt;dbl&gt; | idle_men &lt;int&gt; | numchange &lt;int&gt; | numworkers &lt;dbl&gt; | productivity &lt;dbl&gt; |\n",
       "|---|---|---|---|---|---|---|---|---|---|---|---|---|---|---|---|\n",
       "| 1 | 2020-01-01 | Quarter1 | sweing    | Thursday | 8  | 0.80 | 26.16 | 1108 | 7080 | 98 | 0 | 0 | 0 | 59.0 | 0.9407254 |\n",
       "| 2 | 2020-01-01 | Quarter1 | finishing | Thursday | 1  | 0.75 |  3.94 |    0 |  960 |  0 | 0 | 0 | 0 |  8.0 | 0.8865000 |\n",
       "| 3 | 2020-01-01 | Quarter1 | sweing    | Thursday | 11 | 0.80 | 11.41 |  968 | 3660 | 50 | 0 | 0 | 0 | 30.5 | 0.8005705 |\n",
       "| 4 | 2020-01-01 | Quarter1 | sweing    | Thursday | 12 | 0.80 | 11.41 |  968 | 3660 | 50 | 0 | 0 | 0 | 30.5 | 0.8005705 |\n",
       "| 5 | 2020-01-01 | Quarter1 | sweing    | Thursday | 6  | 0.80 | 25.90 | 1170 | 1920 | 50 | 0 | 0 | 0 | 56.0 | 0.8003819 |\n",
       "| 6 | 2020-01-01 | Quarter1 | sweing    | Thursday | 7  | 0.80 | 25.90 |  984 | 6720 | 38 | 0 | 0 | 0 | 56.0 | 0.8001250 |\n",
       "\n"
      ],
      "text/plain": [
       "  date       quarter  department day      team target smv   wip  over_time\n",
       "1 2020-01-01 Quarter1 sweing     Thursday 8    0.80   26.16 1108 7080     \n",
       "2 2020-01-01 Quarter1 finishing  Thursday 1    0.75    3.94    0  960     \n",
       "3 2020-01-01 Quarter1 sweing     Thursday 11   0.80   11.41  968 3660     \n",
       "4 2020-01-01 Quarter1 sweing     Thursday 12   0.80   11.41  968 3660     \n",
       "5 2020-01-01 Quarter1 sweing     Thursday 6    0.80   25.90 1170 1920     \n",
       "6 2020-01-01 Quarter1 sweing     Thursday 7    0.80   25.90  984 6720     \n",
       "  incentive idle_time idle_men numchange numworkers productivity\n",
       "1 98        0         0        0         59.0       0.9407254   \n",
       "2  0        0         0        0          8.0       0.8865000   \n",
       "3 50        0         0        0         30.5       0.8005705   \n",
       "4 50        0         0        0         30.5       0.8005705   \n",
       "5 50        0         0        0         56.0       0.8003819   \n",
       "6 38        0         0        0         56.0       0.8001250   "
      ]
     },
     "metadata": {},
     "output_type": "display_data"
    }
   ],
   "source": [
    "head(prod2)"
   ]
  },
  {
   "cell_type": "code",
   "execution_count": 45,
   "id": "e7cabac9",
   "metadata": {},
   "outputs": [],
   "source": [
    "prodnew <- prod2[, -c(1, 11:13)]"
   ]
  },
  {
   "cell_type": "code",
   "execution_count": 47,
   "id": "e26c76cc",
   "metadata": {},
   "outputs": [
    {
     "data": {
      "text/html": [
       "<table class=\"dataframe\">\n",
       "<caption>A data.frame: 6 × 11</caption>\n",
       "<thead>\n",
       "\t<tr><th></th><th scope=col>quarter</th><th scope=col>department</th><th scope=col>day</th><th scope=col>team</th><th scope=col>target</th><th scope=col>smv</th><th scope=col>wip</th><th scope=col>over_time</th><th scope=col>incentive</th><th scope=col>numworkers</th><th scope=col>productivity</th></tr>\n",
       "\t<tr><th></th><th scope=col>&lt;fct&gt;</th><th scope=col>&lt;fct&gt;</th><th scope=col>&lt;fct&gt;</th><th scope=col>&lt;fct&gt;</th><th scope=col>&lt;dbl&gt;</th><th scope=col>&lt;dbl&gt;</th><th scope=col>&lt;int&gt;</th><th scope=col>&lt;int&gt;</th><th scope=col>&lt;int&gt;</th><th scope=col>&lt;dbl&gt;</th><th scope=col>&lt;dbl&gt;</th></tr>\n",
       "</thead>\n",
       "<tbody>\n",
       "\t<tr><th scope=row>1</th><td>Quarter1</td><td>sweing   </td><td>Thursday</td><td>8 </td><td>0.80</td><td>26.16</td><td>1108</td><td>7080</td><td>98</td><td>59.0</td><td>0.9407254</td></tr>\n",
       "\t<tr><th scope=row>2</th><td>Quarter1</td><td>finishing</td><td>Thursday</td><td>1 </td><td>0.75</td><td> 3.94</td><td>   0</td><td> 960</td><td> 0</td><td> 8.0</td><td>0.8865000</td></tr>\n",
       "\t<tr><th scope=row>3</th><td>Quarter1</td><td>sweing   </td><td>Thursday</td><td>11</td><td>0.80</td><td>11.41</td><td> 968</td><td>3660</td><td>50</td><td>30.5</td><td>0.8005705</td></tr>\n",
       "\t<tr><th scope=row>4</th><td>Quarter1</td><td>sweing   </td><td>Thursday</td><td>12</td><td>0.80</td><td>11.41</td><td> 968</td><td>3660</td><td>50</td><td>30.5</td><td>0.8005705</td></tr>\n",
       "\t<tr><th scope=row>5</th><td>Quarter1</td><td>sweing   </td><td>Thursday</td><td>6 </td><td>0.80</td><td>25.90</td><td>1170</td><td>1920</td><td>50</td><td>56.0</td><td>0.8003819</td></tr>\n",
       "\t<tr><th scope=row>6</th><td>Quarter1</td><td>sweing   </td><td>Thursday</td><td>7 </td><td>0.80</td><td>25.90</td><td> 984</td><td>6720</td><td>38</td><td>56.0</td><td>0.8001250</td></tr>\n",
       "</tbody>\n",
       "</table>\n"
      ],
      "text/latex": [
       "A data.frame: 6 × 11\n",
       "\\begin{tabular}{r|lllllllllll}\n",
       "  & quarter & department & day & team & target & smv & wip & over\\_time & incentive & numworkers & productivity\\\\\n",
       "  & <fct> & <fct> & <fct> & <fct> & <dbl> & <dbl> & <int> & <int> & <int> & <dbl> & <dbl>\\\\\n",
       "\\hline\n",
       "\t1 & Quarter1 & sweing    & Thursday & 8  & 0.80 & 26.16 & 1108 & 7080 & 98 & 59.0 & 0.9407254\\\\\n",
       "\t2 & Quarter1 & finishing & Thursday & 1  & 0.75 &  3.94 &    0 &  960 &  0 &  8.0 & 0.8865000\\\\\n",
       "\t3 & Quarter1 & sweing    & Thursday & 11 & 0.80 & 11.41 &  968 & 3660 & 50 & 30.5 & 0.8005705\\\\\n",
       "\t4 & Quarter1 & sweing    & Thursday & 12 & 0.80 & 11.41 &  968 & 3660 & 50 & 30.5 & 0.8005705\\\\\n",
       "\t5 & Quarter1 & sweing    & Thursday & 6  & 0.80 & 25.90 & 1170 & 1920 & 50 & 56.0 & 0.8003819\\\\\n",
       "\t6 & Quarter1 & sweing    & Thursday & 7  & 0.80 & 25.90 &  984 & 6720 & 38 & 56.0 & 0.8001250\\\\\n",
       "\\end{tabular}\n"
      ],
      "text/markdown": [
       "\n",
       "A data.frame: 6 × 11\n",
       "\n",
       "| <!--/--> | quarter &lt;fct&gt; | department &lt;fct&gt; | day &lt;fct&gt; | team &lt;fct&gt; | target &lt;dbl&gt; | smv &lt;dbl&gt; | wip &lt;int&gt; | over_time &lt;int&gt; | incentive &lt;int&gt; | numworkers &lt;dbl&gt; | productivity &lt;dbl&gt; |\n",
       "|---|---|---|---|---|---|---|---|---|---|---|---|\n",
       "| 1 | Quarter1 | sweing    | Thursday | 8  | 0.80 | 26.16 | 1108 | 7080 | 98 | 59.0 | 0.9407254 |\n",
       "| 2 | Quarter1 | finishing | Thursday | 1  | 0.75 |  3.94 |    0 |  960 |  0 |  8.0 | 0.8865000 |\n",
       "| 3 | Quarter1 | sweing    | Thursday | 11 | 0.80 | 11.41 |  968 | 3660 | 50 | 30.5 | 0.8005705 |\n",
       "| 4 | Quarter1 | sweing    | Thursday | 12 | 0.80 | 11.41 |  968 | 3660 | 50 | 30.5 | 0.8005705 |\n",
       "| 5 | Quarter1 | sweing    | Thursday | 6  | 0.80 | 25.90 | 1170 | 1920 | 50 | 56.0 | 0.8003819 |\n",
       "| 6 | Quarter1 | sweing    | Thursday | 7  | 0.80 | 25.90 |  984 | 6720 | 38 | 56.0 | 0.8001250 |\n",
       "\n"
      ],
      "text/plain": [
       "  quarter  department day      team target smv   wip  over_time incentive\n",
       "1 Quarter1 sweing     Thursday 8    0.80   26.16 1108 7080      98       \n",
       "2 Quarter1 finishing  Thursday 1    0.75    3.94    0  960       0       \n",
       "3 Quarter1 sweing     Thursday 11   0.80   11.41  968 3660      50       \n",
       "4 Quarter1 sweing     Thursday 12   0.80   11.41  968 3660      50       \n",
       "5 Quarter1 sweing     Thursday 6    0.80   25.90 1170 1920      50       \n",
       "6 Quarter1 sweing     Thursday 7    0.80   25.90  984 6720      38       \n",
       "  numworkers productivity\n",
       "1 59.0       0.9407254   \n",
       "2  8.0       0.8865000   \n",
       "3 30.5       0.8005705   \n",
       "4 30.5       0.8005705   \n",
       "5 56.0       0.8003819   \n",
       "6 56.0       0.8001250   "
      ]
     },
     "metadata": {},
     "output_type": "display_data"
    }
   ],
   "source": [
    "head(prodnew)"
   ]
  },
  {
   "cell_type": "code",
   "execution_count": 49,
   "id": "e9a65f4d",
   "metadata": {},
   "outputs": [],
   "source": [
    "# 파일 안쓸거라서 주석처리함\n",
    "# write.csv(prodnew, 'productivityREG.csv', quote=F, row.names=F)"
   ]
  },
  {
   "cell_type": "code",
   "execution_count": 50,
   "id": "587c0a77",
   "metadata": {},
   "outputs": [],
   "source": [
    "detach(prod)"
   ]
  },
  {
   "cell_type": "code",
   "execution_count": null,
   "id": "9a681e57",
   "metadata": {},
   "outputs": [],
   "source": []
  }
 ],
 "metadata": {
  "kernelspec": {
   "display_name": "R",
   "language": "R",
   "name": "ir"
  },
  "language_info": {
   "codemirror_mode": "r",
   "file_extension": ".r",
   "mimetype": "text/x-r-source",
   "name": "R",
   "pygments_lexer": "r",
   "version": "4.0.3"
  }
 },
 "nbformat": 4,
 "nbformat_minor": 5
}
